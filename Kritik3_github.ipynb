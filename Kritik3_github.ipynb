{
 "cells": [
  {
   "cell_type": "code",
   "execution_count": 1,
   "id": "bfa347bf",
   "metadata": {},
   "outputs": [
    {
     "ename": "NameError",
     "evalue": "name 'x' is not defined",
     "output_type": "error",
     "traceback": [
      "\u001b[0;31m---------------------------------------------------------------------------\u001b[0m",
      "\u001b[0;31mNameError\u001b[0m                                 Traceback (most recent call last)",
      "Cell \u001b[0;32mIn[1], line 31\u001b[0m\n\u001b[1;32m     28\u001b[0m \u001b[38;5;28;01mdef\u001b[39;00m \u001b[38;5;21mf\u001b[39m(x):\n\u001b[1;32m     29\u001b[0m     \u001b[38;5;28;01mreturn\u001b[39;00m x\u001b[38;5;241m*\u001b[39m\u001b[38;5;241m*\u001b[39m\u001b[38;5;241m2\u001b[39m\n\u001b[0;32m---> 31\u001b[0m \u001b[38;5;28mprint\u001b[39m (greg(\u001b[43mx\u001b[49m,\u001b[38;5;241m2\u001b[39m,\u001b[38;5;241m0.001\u001b[39m))\n",
      "\u001b[0;31mNameError\u001b[0m: name 'x' is not defined"
     ]
    }
   ],
   "source": [
    "def greg(f,c,E):\n",
    "    n=100 \n",
    "    x1=c\n",
    "    x2=c\n",
    "    delx=10**(-8)\n",
    "    d=0.001 #decrement\n",
    "    \n",
    "    def fPrime(x):\n",
    "        return (f(x+delx)-f(x-delx))/(2*delx)\n",
    "    \n",
    "    def L(x):\n",
    "        f(c)+fPrime(c)*(x-c)\n",
    "    \n",
    "    for i in range(n): \n",
    "        x1-=d   \n",
    "        if abs(f(x1)-L(x1)) == E:\n",
    "            return xl        \n",
    "        else:\n",
    "            return \"no such x1 can be found\"\n",
    "        \n",
    "    for i in range(n):\n",
    "        x2+=d \n",
    "        if abs(f(x2)-L(x2)) == E:\n",
    "            return x2\n",
    "        else:\n",
    "            return \"no such x2 can be found\"\n",
    "        \n",
    "def f(x):\n",
    "    return x**2\n",
    "\n",
    "print (greg(x,2,0.001))\n",
    "        \n",
    "    \n",
    "        \n",
    "    "
   ]
  },
  {
   "cell_type": "code",
   "execution_count": 5,
   "id": "85751a0e",
   "metadata": {},
   "outputs": [
    {
     "name": "stdout",
     "output_type": "stream",
     "text": [
      "no such x1 can be found\n",
      "no such x2 can be found\n",
      "Behold, x1 is  0.8999999999999999 and x2 is 1.099999999999989 .\n"
     ]
    }
   ],
   "source": [
    "def f(x):\n",
    "    return x**2\n",
    "\n",
    "c=1\n",
    "E=0.1\n",
    "n=100 \n",
    "x1=c\n",
    "x2=c\n",
    "delx=10**(-8)\n",
    "d=0.001 \n",
    "    \n",
    "def fPrime(x):\n",
    "    return (f(x+delx)-f(x-delx))/(2*delx)    \n",
    "def L(x):\n",
    "    return f(c)+fPrime(c)*(x-c)   # when + instead of * it runs but worng\n",
    "\n",
    "for i in range(n): \n",
    "    x1-=d   \n",
    "    if abs(f(x1)-L(x1)) <= E:\n",
    "        print(xl) \n",
    "        break\n",
    "else:\n",
    "    print(\"no such x1 can be found\")\n",
    "\n",
    "for i in range(n):\n",
    "    x2+=d \n",
    "    if abs(f(x2)-L(x2)) <= E:\n",
    "        print(x2)\n",
    "        break\n",
    "else:\n",
    "    print(\"no such x2 can be found\") \n",
    "\n",
    "print(\"Behold, x1 is \", x1, \"and x2 is\", x2, \".\" )\n",
    "    \n",
    "        \n",
    "        \n",
    "    \n",
    "        "
   ]
  },
  {
   "cell_type": "code",
   "execution_count": 4,
   "id": "5dc6b492",
   "metadata": {},
   "outputs": [
    {
     "name": "stdout",
     "output_type": "stream",
     "text": [
      "Behold, x1 is 0.7843981633974483 and x2 is 0.7863981633974483\n"
     ]
    }
   ],
   "source": [
    "import numpy as np\n",
    "\n",
    "# Case 2\n",
    "def f(x):\n",
    "    return np.sin(x)\n",
    "\n",
    "c=np.pi/4\n",
    "E=0.05\n",
    "\n",
    "delx=10**(-8)\n",
    "x1=c\n",
    "x2=c\n",
    "d=0.001 \n",
    "\n",
    "def fPrime(x):\n",
    "    return (f(x+delx)-f(x-delx))/2*delx\n",
    "def L(x):\n",
    "    return f(c)+fPrime(c)*(x-c)\n",
    "for i in range(100):\n",
    "    x1=x1-d\n",
    "    if abs(f(x1)-L(x1))<=E:\n",
    "       # print(x1)\n",
    "        break\n",
    "else:\n",
    "    print (\"No such x1 can be found\")\n",
    "for i in range(100):\n",
    "    x2=x2+d\n",
    "    if abs(f(x2)-L(x2))<=E:\n",
    "      #  print(x2)\n",
    "        break\n",
    "else:\n",
    "    print (\"No such x2 can be found\") \n",
    "print(\"Behold, x1 is\",x1,\"and x2 is\",x2)"
   ]
  },
  {
   "cell_type": "code",
   "execution_count": 5,
   "id": "e9b654ec",
   "metadata": {},
   "outputs": [
    {
     "name": "stdout",
     "output_type": "stream",
     "text": [
      "Behold, x1 is 0.999 and x2 is 1.001\n"
     ]
    }
   ],
   "source": [
    "import numpy as np\n",
    "\n",
    "# Case 1\n",
    "def f(x): \n",
    "    return x**2\n",
    "\n",
    "c=1\n",
    "E=0.1\n",
    "\n",
    "delx=10**(-8)\n",
    "x1=c\n",
    "x2=c\n",
    "d=0.001 \n",
    "\n",
    "def fPrime(x):\n",
    "    return (f(x+delx)-f(x-delx))/2*delx\n",
    "def L(x):\n",
    "    return f(c)+fPrime(c)*(x-c)\n",
    "for i in range(100):\n",
    "    x1=x1-d\n",
    "    if abs(f(x1)-L(x1))<=E:\n",
    "       # print(x1)\n",
    "        break\n",
    "else:\n",
    "    print (\"No such x1 can be found\")\n",
    "for i in range(100):\n",
    "    x2=x2+d\n",
    "    if abs(f(x2)-L(x2))<=E:\n",
    "      #  print(x2)\n",
    "        break\n",
    "else:\n",
    "    print (\"No such x2 can be found\")\n",
    "print(\"Behold, x1 is\",x1,\"and x2 is\",x2)"
   ]
  },
  {
   "cell_type": "code",
   "execution_count": 8,
   "id": "0010b997",
   "metadata": {},
   "outputs": [
    {
     "name": "stdout",
     "output_type": "stream",
     "text": [
      "Behold, x1 is -0.001 and x2 is 0.001\n"
     ]
    }
   ],
   "source": [
    "import numpy as np\n",
    "\n",
    "# Case 3\n",
    "def f(x): \n",
    "    return np.exp(x)\n",
    "\n",
    "c=0\n",
    "E=0.01\n",
    "\n",
    "delx=10**(-8)\n",
    "x1=c\n",
    "x2=c\n",
    "d=0.001 \n",
    "\n",
    "def fPrime(x):\n",
    "    return (f(x+delx)-f(x-delx))/2*delx\n",
    "def L(x):\n",
    "    return f(c)+fPrime(c)*(x-c)\n",
    "for i in range(100):\n",
    "    x1=x1-d\n",
    "    if abs(f(x1)-L(x1))<=E:\n",
    "       # print(x1)\n",
    "        break\n",
    "else:\n",
    "    print (\"No such x1 can be found\")\n",
    "for i in range(100):\n",
    "    x2=x2+d\n",
    "    if abs(f(x2)-L(x2))<=E:\n",
    "      #  print(x2)\n",
    "        break\n",
    "else:\n",
    "    print (\"No such x2 can be found\")\n",
    "print(\"Behold, x1 is\",x1,\"and x2 is\",x2)"
   ]
  },
  {
   "cell_type": "code",
   "execution_count": null,
   "id": "8dcdbf6e",
   "metadata": {},
   "outputs": [],
   "source": []
  }
 ],
 "metadata": {
  "kernelspec": {
   "display_name": "Python 3 (ipykernel)",
   "language": "python",
   "name": "python3"
  },
  "language_info": {
   "codemirror_mode": {
    "name": "ipython",
    "version": 3
   },
   "file_extension": ".py",
   "mimetype": "text/x-python",
   "name": "python",
   "nbconvert_exporter": "python",
   "pygments_lexer": "ipython3",
   "version": "3.11.4"
  }
 },
 "nbformat": 4,
 "nbformat_minor": 5
}
