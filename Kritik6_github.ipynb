{
 "cells": [
  {
   "cell_type": "code",
   "execution_count": 1,
   "id": "49a2954a",
   "metadata": {},
   "outputs": [
    {
     "name": "stdout",
     "output_type": "stream",
     "text": [
      "The probability that a guy will be between 162cm and 190cm tall is: 0.8938055523639304\n"
     ]
    }
   ],
   "source": [
    "import numpy as np\n",
    "\n",
    "def normal_density(mean, variance, x):\n",
    "    function = (1 / np.sqrt(2 * np.pi * variance)) * np.exp(-((x - mean)**2) / (2 * variance))\n",
    "    return function\n",
    "\n",
    "def integration(mean, variance, a, b):\n",
    "    n = 1000\n",
    "    x = np.linspace(a, b, n + 1)\n",
    "    y_values = normal_density(mean, variance, x)\n",
    "    delta_x = (b - a) / n\n",
    "\n",
    "    result = (sum(y_values) - 0.5 * (y_values[0] + y_values[-1])) * delta_x\n",
    "    return result\n",
    "\n",
    "# Probability of height between 162cm and 190cm for males\n",
    "mean_height = 171\n",
    "variance_height = 7.1**2\n",
    "print(\"The probability that a guy will be between 162cm and 190cm tall is:\", integration(mean_height, variance_height, 162, 190))\n"
   ]
  },
  {
   "cell_type": "code",
   "execution_count": null,
   "id": "3af591d9",
   "metadata": {},
   "outputs": [],
   "source": []
  }
 ],
 "metadata": {
  "kernelspec": {
   "display_name": "Python 3 (ipykernel)",
   "language": "python",
   "name": "python3"
  },
  "language_info": {
   "codemirror_mode": {
    "name": "ipython",
    "version": 3
   },
   "file_extension": ".py",
   "mimetype": "text/x-python",
   "name": "python",
   "nbconvert_exporter": "python",
   "pygments_lexer": "ipython3",
   "version": "3.11.4"
  }
 },
 "nbformat": 4,
 "nbformat_minor": 5
}
