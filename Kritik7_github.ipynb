{
 "cells": [
  {
   "cell_type": "code",
   "execution_count": 1,
   "id": "963ff017",
   "metadata": {},
   "outputs": [
    {
     "name": "stdout",
     "output_type": "stream",
     "text": [
      "Mean: 82.382\n",
      "Standard Deviation: 10.193467189005581\n",
      "t0: 2.290087686017293\n",
      "t_star: 2.2522252225222523\n",
      " \n",
      "Reject the null hypothesis. The mean of the test scores doesn't equal 75. \n",
      "since t0 is positive, the statistical evidence suggests that the new teaching technique is helpful. Yay!\n"
     ]
    }
   ],
   "source": [
    "import numpy as np\n",
    "from scipy.special import gamma\n",
    "\n",
    "scores = [92.64,79.00,84.79,97.41,93.68,65.23,84.50,73.49,73.97,79.11]\n",
    "population_mean = 75\n",
    "\n",
    "# Function to compute the mean and standard deviation for the list\n",
    "def compute_mean_and_std(data):\n",
    "    n = len(data)\n",
    "    mean = sum(data) / n\n",
    "    variance = sum((x-mean)**2 for x in data)/(n-1)\n",
    "    std_dev = np.sqrt(variance)\n",
    "    print(\"Mean:\", mean)\n",
    "    print(\"Standard Deviation:\", std_dev)\n",
    "    return mean, std_dev\n",
    "\n",
    "# Function to compute t0\n",
    "def compute_t0(sample_mean, sample_std_dev, sample_size, population_mean):\n",
    "    t0 = (sample_mean - population_mean) / (sample_std_dev / np.sqrt(sample_size))\n",
    "    print(\"t0:\", t0)\n",
    "    return t0\n",
    "\n",
    "# Function to find t-star\n",
    "def find_t_star(prob, nu, x_start=0, x_end=20, num_points=10000):\n",
    "    x = np.linspace(x_start, x_end, num_points)\n",
    "    y = t_distribution_pdf(x, nu)\n",
    "    cdf = np.cumsum(y) * (x[1] - x[0])\n",
    "    target_half_prob = prob / 2\n",
    "    index = np.where(cdf >= target_half_prob)[0][0]\n",
    "    t_star = x[index]\n",
    "    print(\"t_star:\", t_star)\n",
    "    print(\" \")\n",
    "    return t_star\n",
    "\n",
    "# Function to check if t0 is in the interval [-t_star, t_star]\n",
    "def check_t_in_interval(t0, t_star):\n",
    "    return abs(t0) <= t_star\n",
    "\n",
    "# Define the t-distribution PDF function\n",
    "def t_distribution_pdf(x, nu):\n",
    "    coeff = gamma((nu+1)/2)/(np.sqrt(nu*np.pi)*gamma(nu/2))\n",
    "    density = coeff*(1+x**2/nu)**(-0.5*(nu+1))\n",
    "    return density\n",
    "\n",
    "################################################################################################################################\n",
    "\n",
    "# Get mean and standard deviation of the test scores\n",
    "sample_mean, sample_std_dev = compute_mean_and_std(scores)\n",
    "\n",
    "# Find t0\n",
    "sample_size = len(scores)\n",
    "t0 = compute_t0(sample_mean, sample_std_dev, sample_size, population_mean)\n",
    "\n",
    "# Find t-star\n",
    "t_star = find_t_star(0.95, sample_size - 1)\n",
    "\n",
    "# Check if t0 is in the interval [-t_star, t_star]\n",
    "is_in_interval = check_t_in_interval(t0, t_star)\n",
    "\n",
    "if is_in_interval:\n",
    "    print(\"Accept the null hypothesis. Not sure the mean doesn't equal 75.\")\n",
    "else:\n",
    "    print(\"Reject the null hypothesis. The mean of the test scores doesn't equal 75. \")\n",
    "\n",
    "if t0 < 0:\n",
    "    print(\"since t0 is negative, the statistical evidence suggests that the new teaching technique is bad. oof.\")\n",
    "else:\n",
    "    print(\"since t0 is positive, the statistical evidence suggests that the new teaching technique is helpful. Yay!\")\n"
   ]
  },
  {
   "cell_type": "code",
   "execution_count": null,
   "id": "6e0a9584",
   "metadata": {},
   "outputs": [],
   "source": []
  }
 ],
 "metadata": {
  "kernelspec": {
   "display_name": "Python 3 (ipykernel)",
   "language": "python",
   "name": "python3"
  },
  "language_info": {
   "codemirror_mode": {
    "name": "ipython",
    "version": 3
   },
   "file_extension": ".py",
   "mimetype": "text/x-python",
   "name": "python",
   "nbconvert_exporter": "python",
   "pygments_lexer": "ipython3",
   "version": "3.11.4"
  }
 },
 "nbformat": 4,
 "nbformat_minor": 5
}
